{
 "cells": [
  {
   "cell_type": "code",
   "execution_count": 61,
   "id": "e543d225",
   "metadata": {},
   "outputs": [
    {
     "data": {
      "text/plain": [
       "'i'"
      ]
     },
     "execution_count": 61,
     "metadata": {},
     "output_type": "execute_result"
    }
   ],
   "source": [
    "A = \"Aishah\"\n",
    "B = 20\n",
    "C = 3.35\n",
    "D = True\n",
    "A[1]"
   ]
  },
  {
   "cell_type": "markdown",
   "id": "1435662f",
   "metadata": {},
   "source": [
    "### create an empty list"
   ]
  },
  {
   "cell_type": "code",
   "execution_count": 62,
   "id": "88c99f55",
   "metadata": {},
   "outputs": [],
   "source": [
    "Name=[]"
   ]
  },
  {
   "cell_type": "markdown",
   "id": "8d1f1a2f",
   "metadata": {},
   "source": [
    "### Append"
   ]
  },
  {
   "cell_type": "code",
   "execution_count": 64,
   "id": "6c60ccfb",
   "metadata": {},
   "outputs": [],
   "source": [
    "Name.append(A)"
   ]
  },
  {
   "cell_type": "code",
   "execution_count": 65,
   "id": "39c50cbe",
   "metadata": {},
   "outputs": [
    {
     "data": {
      "text/plain": [
       "['Aishah', 'Aishah']"
      ]
     },
     "execution_count": 65,
     "metadata": {},
     "output_type": "execute_result"
    }
   ],
   "source": [
    "Name"
   ]
  },
  {
   "cell_type": "markdown",
   "id": "3386e228",
   "metadata": {},
   "source": [
    "### Add the str and float and assign a name"
   ]
  },
  {
   "cell_type": "code",
   "execution_count": 66,
   "id": "7334248b",
   "metadata": {},
   "outputs": [
    {
     "name": "stdout",
     "output_type": "stream",
     "text": [
      "23.35\n"
     ]
    }
   ],
   "source": [
    "F=B+C\n",
    "print(F)"
   ]
  },
  {
   "cell_type": "code",
   "execution_count": 67,
   "id": "fe54d1a4",
   "metadata": {},
   "outputs": [
    {
     "data": {
      "text/plain": [
       "['Aishah', 'Aishah', 23.35]"
      ]
     },
     "execution_count": 67,
     "metadata": {},
     "output_type": "execute_result"
    }
   ],
   "source": [
    "Name.append(F)\n",
    "Name"
   ]
  },
  {
   "cell_type": "code",
   "execution_count": 83,
   "id": "f4c17b86",
   "metadata": {},
   "outputs": [
    {
     "ename": "TypeError",
     "evalue": "'tuple' object is not callable",
     "output_type": "error",
     "traceback": [
      "\u001b[1;31m---------------------------------------------------------------------------\u001b[0m",
      "\u001b[1;31mTypeError\u001b[0m                                 Traceback (most recent call last)",
      "Cell \u001b[1;32mIn[83], line 1\u001b[0m\n\u001b[1;32m----> 1\u001b[0m \u001b[38;5;28mint\u001b[39m(D)\n",
      "\u001b[1;31mTypeError\u001b[0m: 'tuple' object is not callable"
     ]
    }
   ],
   "source": [
    "int(D)"
   ]
  },
  {
   "cell_type": "code",
   "execution_count": 30,
   "id": "1c868be5",
   "metadata": {},
   "outputs": [
    {
     "data": {
      "text/plain": [
       "6"
      ]
     },
     "execution_count": 30,
     "metadata": {},
     "output_type": "execute_result"
    }
   ],
   "source": [
    "len(A)"
   ]
  },
  {
   "cell_type": "markdown",
   "id": "4de889fa",
   "metadata": {},
   "source": [
    "### change sokoto in the list to lagos\n"
   ]
  },
  {
   "cell_type": "code",
   "execution_count": 39,
   "id": "ea3ab848",
   "metadata": {},
   "outputs": [],
   "source": [
    "West=[\"osun\",\"ogun\",\"ekiti\",\"ondo\",\"sokoto\"]\n",
    "North=[\"kano\",\"yola\",\"jalingo\",\"maiduguri\"]\n",
    "East=[\"enugu\",\"abia\",\"delta\",\"rivers\"]"
   ]
  },
  {
   "cell_type": "code",
   "execution_count": 42,
   "id": "7a21ebe3",
   "metadata": {},
   "outputs": [],
   "source": [
    "West[4]=\"lagos\""
   ]
  },
  {
   "cell_type": "code",
   "execution_count": 45,
   "id": "a8b74b21",
   "metadata": {},
   "outputs": [
    {
     "name": "stdout",
     "output_type": "stream",
     "text": [
      "['osun', 'ogun', 'ekiti', 'ondo', 'lagos']\n"
     ]
    }
   ],
   "source": [
    "print (West)"
   ]
  },
  {
   "cell_type": "code",
   "execution_count": 58,
   "id": "05863904",
   "metadata": {},
   "outputs": [],
   "source": [
    "Nigeria={}"
   ]
  },
  {
   "cell_type": "markdown",
   "id": "df817e51",
   "metadata": {},
   "source": [
    "### change west which is in list[ ] to tupple( )"
   ]
  },
  {
   "cell_type": "code",
   "execution_count": 48,
   "id": "89b57ed7",
   "metadata": {},
   "outputs": [
    {
     "data": {
      "text/plain": [
       "('osun', 'ogun', 'ekiti', 'ondo', 'lagos')"
      ]
     },
     "execution_count": 48,
     "metadata": {},
     "output_type": "execute_result"
    }
   ],
   "source": [
    "tuple(West)"
   ]
  },
  {
   "cell_type": "markdown",
   "id": "8b451697",
   "metadata": {},
   "source": [
    "### Assignment\n",
    "put the west, north and east list in a dictionary called Nigeria"
   ]
  },
  {
   "cell_type": "code",
   "execution_count": 79,
   "id": "4d39f58b",
   "metadata": {},
   "outputs": [],
   "source": [
    "Nigeria={}\n",
    "Nigeria[\"West\",\"North\",\"East\"]=West,North,East"
   ]
  },
  {
   "cell_type": "code",
   "execution_count": 74,
   "id": "d22a76c0",
   "metadata": {},
   "outputs": [
    {
     "data": {
      "text/plain": [
       "{('West', 'North', 'East'): (['osun', 'ogun', 'ekiti', 'ondo', 'lagos'],\n",
       "  ['kano', 'yola', 'jalingo', 'maiduguri'],\n",
       "  ['enugu', 'abia', 'delta', 'rivers'])}"
      ]
     },
     "execution_count": 74,
     "metadata": {},
     "output_type": "execute_result"
    }
   ],
   "source": [
    "Nigeria"
   ]
  },
  {
   "cell_type": "code",
   "execution_count": 78,
   "id": "601fb9e2",
   "metadata": {},
   "outputs": [
    {
     "data": {
      "text/plain": [
       "{'West': ['osun', 'ogun', 'ekiti', 'ondo', 'lagos'],\n",
       " 'North': ['kano', 'yola', 'jalingo', 'maiduguri'],\n",
       " 'East': ['enugu', 'abia', 'delta', 'rivers']}"
      ]
     },
     "execution_count": 78,
     "metadata": {},
     "output_type": "execute_result"
    }
   ],
   "source": [
    "Nigeria={}\n",
    "Nigeria[\"West\"]=West\n",
    "Nigeria[\"North\"]=North\n",
    "Nigeria[\"East\"]=East\n",
    "Nigeria"
   ]
  },
  {
   "cell_type": "code",
   "execution_count": null,
   "id": "ceaa2a9e",
   "metadata": {},
   "outputs": [],
   "source": []
  }
 ],
 "metadata": {
  "kernelspec": {
   "display_name": "Python 3 (ipykernel)",
   "language": "python",
   "name": "python3"
  },
  "language_info": {
   "codemirror_mode": {
    "name": "ipython",
    "version": 3
   },
   "file_extension": ".py",
   "mimetype": "text/x-python",
   "name": "python",
   "nbconvert_exporter": "python",
   "pygments_lexer": "ipython3",
   "version": "3.11.5"
  }
 },
 "nbformat": 4,
 "nbformat_minor": 5
}
